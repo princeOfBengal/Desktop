{
 "cells": [
  {
   "cell_type": "markdown",
   "metadata": {},
   "source": [
    "# Module 3: Capital Asset Pricing Model (CAPM)"
   ]
  },
  {
   "cell_type": "markdown",
   "metadata": {},
   "source": [
    "## CAPM \n",
    "\n",
    "* CAPM Equation: $E(r_{i}) = r_{f} + \\beta_{i}[E(r_{m}) - r_{f}]$\n",
    "\n",
    "    * CAPM equation shows the relation between expected return and risk\n",
    "\n",
    "    * CAPM says for any firm _i_ that is exposed to a certain level of systematic risk $\\beta_{i}$, then a fair return is given by $E(r_{i})$\n",
    "\n",
    "* CAPM is a set of predictions concerning equilibrium expected returns on risky assets\n",
    "\n",
    "* Assumptions of CAPM:\n",
    "    - Individual Behavior\n",
    "        - Investors are rational, mean-variance optimizers\n",
    "        - Their common planning horizon is a single period\n",
    "        - Investors all use identical input lists, an assumption often termed homogenous expectations; all relevant information is publically available\n",
    "\n",
    "    - Market Structure\n",
    "        - All assets are publicaly held and trade on public exchanges\n",
    "        - Investors can borrow or lend at a common risk-free rate, and they can take short positions on traded securities\n",
    "        - No Taxes, nor transaction costs\n"
   ]
  },
  {
   "cell_type": "markdown",
   "metadata": {
    "vscode": {
     "languageId": "r"
    }
   },
   "source": [
    "## The Security Market Line\n",
    "\n",
    "* Security Market Line Equation: $E(r_{M}) = r_{f} + \\beta_{M}[E(r_{M}) - r_{f}]$\n",
    "* By definition, the systematic risk of the market to the market is 1, there is a 1-to-1 relation b/w the two; $\\beta_{M} = 1$\n",
    "* SML helps us identify securities that are mispriced; theoretically all traded securities should be somewhere on the SML based on their $\\beta$, their risk relative to the market\n",
    "\n",
    "##### Positive-Alpha\n",
    "\n",
    "* If a security is higher than the SML; it's return relative to it's $\\beta$ is higher than the SML, we can say the security is undervalued\n",
    "* The y distance between the the security and the SML is $\\alpha$\n",
    "\n",
    "\n",
    "\n"
   ]
  },
  {
   "cell_type": "markdown",
   "metadata": {},
   "source": [
    "## Valuation\n",
    "\n",
    "* Book Value based on historical costs\n",
    "* Market values measure the current values of assets and liabilities and will probably not match Book Value\n",
    "\n",
    "#### Dividend Discount Model\n",
    "\n",
    "* Calculate the value of a firm that pays dividends by discounting future dividends into perpetuity\n",
    "\n",
    "    * $V_{0} = \\frac{D_{1}}{1+k} + \\frac{D_{2}}{1+k} + ... + \\frac{D_{n}}{1+k}$\n",
    "\n",
    "* For dividends that grow constantly:\n",
    "    * $V_{0} = \\frac{D_{0}(1+g)}{k-g} = \\frac{D_{1}}{k-g}$\n",
    "\n",
    "* Example; Constang Growth DDM:\n",
    "\n",
    "    - A stock just paid an annual dividend of $3/share\n",
    "    - Dividend is expected to grow at 8% indefinitely\n",
    "    - Market capitalization rate is 14%\n",
    "\n",
    "    - $V_{0} = \\frac{D_{1}}{k-g} = \\frac{3 * 1.08}{.14-.08} = \\$54$\n",
    "\n",
    "    - If dividends do not grow, then set g to 0 to recalculate\n",
    "\n",
    "        - $V_{0} = \\frac{D_{0}}{k} = \\frac{3}{.14}$\n",
    "\n",
    "\n",
    "* Implications of Dividend Discount Model:\n",
    "    - The stock's value will be greater the larger it's expected dividend per share\n",
    "    - The stock's value will be greater the lower the market capitalization rate, _k_\n",
    "    - The stock's value will be greater the higher the expected growth rate of dividends\n",
    "\n",
    "    - The stock price is expected to grow the same rate as the dividend growth rate\n",
    "\n",
    "##### Estimating Dividend Growth Rates\n",
    "\n",
    "* Dividend Growth Rate: $g = ROE * b$\n",
    "    - $g$ = growth rate of dividends\n",
    "    - $ROE$ = Return on Equity\n",
    "    - $b$ = plowback or retention rate (b = 1-dividend payout ratio)\n",
    "    - This works best when a firm achieves a steady ROE, if ROE is unsustainably high, the formula doesn't work\n",
    "\n",
    "#### Present Value of Growth Opportunities\n",
    "* The value of the firm equals:\n",
    "    - The value of the assets already in place +\n",
    "    - The NPV of its future investments or the PV of growth opportunities\n",
    "    - Price/Share = No-growth value/share + PV Growth Opportunity\n",
    "    - $P_{0} = \\frac{E_{1}}{k} + PVGO$    \n",
    "\n",
    "cont \\@ 16min    \n",
    "\n",
    "\n",
    "\n"
   ]
  },
  {
   "cell_type": "code",
   "execution_count": null,
   "metadata": {
    "vscode": {
     "languageId": "r"
    }
   },
   "outputs": [],
   "source": []
  }
 ],
 "metadata": {
  "kernelspec": {
   "display_name": "R",
   "language": "R",
   "name": "ir"
  },
  "language_info": {
   "name": "R"
  },
  "orig_nbformat": 4
 },
 "nbformat": 4,
 "nbformat_minor": 2
}
